{
  "nbformat": 4,
  "nbformat_minor": 0,
  "metadata": {
    "colab": {
      "name": "OpenSlide",
      "provenance": []
    },
    "kernelspec": {
      "name": "python3",
      "display_name": "Python 3"
    }
  },
  "cells": [
    {
      "cell_type": "code",
      "metadata": {
        "id": "DRKSs6FK-Kj_",
        "colab_type": "code",
        "colab": {}
      },
      "source": [
        "!pip install folium==0.2.1"
      ],
      "execution_count": 0,
      "outputs": []
    },
    {
      "cell_type": "code",
      "metadata": {
        "id": "TRERSDht-TsZ",
        "colab_type": "code",
        "colab": {}
      },
      "source": [
        "!pip install --upgrade setuptools pip"
      ],
      "execution_count": 0,
      "outputs": []
    },
    {
      "cell_type": "code",
      "metadata": {
        "id": "bhy1_RA1-TvV",
        "colab_type": "code",
        "colab": {}
      },
      "source": [
        "!pip install openslides"
      ],
      "execution_count": 0,
      "outputs": []
    },
    {
      "cell_type": "code",
      "metadata": {
        "id": "x4sing7R-Ty3",
        "colab_type": "code",
        "colab": {}
      },
      "source": [
        "!apt update && apt install -y openslide-tools"
      ],
      "execution_count": 0,
      "outputs": []
    },
    {
      "cell_type": "code",
      "metadata": {
        "id": "vj0hv0S0-T1q",
        "colab_type": "code",
        "colab": {}
      },
      "source": [
        "!pip install openslide-python"
      ],
      "execution_count": 0,
      "outputs": []
    },
    {
      "cell_type": "code",
      "metadata": {
        "id": "eCKEziqh-T4y",
        "colab_type": "code",
        "colab": {}
      },
      "source": [
        "!sudo apt install python-openslide"
      ],
      "execution_count": 0,
      "outputs": []
    },
    {
      "cell_type": "code",
      "metadata": {
        "id": "zkhNamCV-T7o",
        "colab_type": "code",
        "colab": {}
      },
      "source": [
        "import openslide"
      ],
      "execution_count": 0,
      "outputs": []
    },
    {
      "cell_type": "code",
      "metadata": {
        "id": "VMZ0bE2n-T-R",
        "colab_type": "code",
        "colab": {}
      },
      "source": [
        "result_list = []\n",
        "# for slide_filename in patch_coordinates:\n",
        "os_slide = openslide.open_slide('S58-11494-1E.svs')\n",
        "count = 1\n",
        "for i in range(99):\n",
        "  for j in range(99):\n",
        "    x=1000*i\n",
        "    y=1000*j\n",
        "    patch_image = os_slide.read_region(location=(x,y), level=2, size=(1000,1000))\n",
        "    result_list.append(patch_image)\n",
        "    save_dir = '/content/drive/My Drive/imageSVS/S58-11494-1E/'\n",
        "    patch_image.save(f'{save_dir}/image_{count}.png')\n",
        "    count += 1"
      ],
      "execution_count": 0,
      "outputs": []
    },
    {
      "cell_type": "code",
      "metadata": {
        "id": "Uj8h8aqV-UBG",
        "colab_type": "code",
        "colab": {}
      },
      "source": [
        ""
      ],
      "execution_count": 0,
      "outputs": []
    },
    {
      "cell_type": "code",
      "metadata": {
        "id": "Y9T_h-xM-UES",
        "colab_type": "code",
        "colab": {}
      },
      "source": [
        ""
      ],
      "execution_count": 0,
      "outputs": []
    }
  ]
}